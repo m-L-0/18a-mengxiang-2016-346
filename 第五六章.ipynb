{
 "cells": [
  {
   "cell_type": "code",
   "execution_count": 2,
   "metadata": {},
   "outputs": [
    {
     "name": "stderr",
     "output_type": "stream",
     "text": [
      "C:\\Users\\hasee\\Anaconda3\\lib\\site-packages\\h5py\\__init__.py:36: FutureWarning: Conversion of the second argument of issubdtype from `float` to `np.floating` is deprecated. In future, it will be treated as `np.float64 == np.dtype(float).type`.\n",
      "  from ._conv import register_converters as _register_converters\n"
     ]
    }
   ],
   "source": [
    "import tensorflow as tf"
   ]
  },
  {
   "cell_type": "code",
   "execution_count": 3,
   "metadata": {},
   "outputs": [
    {
     "name": "stdout",
     "output_type": "stream",
     "text": [
      "[12 34]\n"
     ]
    }
   ],
   "source": [
    "tensor_a = tf.constant([12,34],dtype=tf.int64)\n",
    "tensor_b = tf.constant([1,5],dtype=tf.int64)\n",
    "def maxnum(tensor_a,tensor_b):\n",
    "    a = tf.where(tf.greater(tensor_a,tensor_b),tensor_a,tensor_b)\n",
    "    return(sess.run(a))\n",
    "\n",
    "with tf.Session() as sess:\n",
    "    print(maxnum(tensor_a,tensor_b))"
   ]
  },
  {
   "cell_type": "code",
   "execution_count": 2,
   "metadata": {},
   "outputs": [],
   "source": [
    "#设计一个函数，要求输入两个shape、dtype一样的张量，输出一个同样shape、dtype的张量，\n",
    "#并且输出的张量中的元素的每一个值都是输入的两个张量中对应元素最大的\n",
    "def max_num(m,n):\n",
    "    m = tf.convert_to_tensor(m)\n",
    "    n = tf.convert_to_tensor(n)\n",
    "    def max_m(m,n):\n",
    "        return m\n",
    "    def max_n(m,n):\n",
    "        return n\n",
    "    tf.cond(m>n,max_m,max_n)"
   ]
  },
  {
   "cell_type": "code",
   "execution_count": 3,
   "metadata": {},
   "outputs": [
    {
     "name": "stdout",
     "output_type": "stream",
     "text": [
      "INFO:tensorflow:Froze 1 variables.\n",
      "INFO:tensorflow:Converted 1 variables to const ops.\n"
     ]
    }
   ],
   "source": [
    "#将变量转化为常量，边存成图。\n",
    "import tensorflow as tf\n",
    "from tensorflow.python.framework import graph_util\n",
    "\n",
    "with tf.Graph().as_default() as g:\n",
    "    my_input = tf.placeholder(dtype=tf.int32, shape=[], name='input')\n",
    "    var = tf.get_variable(name='var', shape=[], dtype=tf.int32)\n",
    "    output = tf.add(my_input, var, name='output')\n",
    "\n",
    "with tf.Session(graph=g) as sess:\n",
    "    sess.run(tf.global_variables_initializer())\n",
    "    sess.run(var.assign(10))\n",
    "    \n",
    "    # 将变量转化为常量，返回一个新的图\n",
    "    new_graph = graph_util.convert_variables_to_constants(\n",
    "        sess, \n",
    "        sess.graph_def, \n",
    "        output_node_names=['output'])\n",
    "    # 将新的图保存\n",
    "    tf.train.write_graph(new_graph, '', 'graph.pb', as_text=False)"
   ]
  },
  {
   "cell_type": "code",
   "execution_count": 6,
   "metadata": {},
   "outputs": [
    {
     "name": "stdout",
     "output_type": "stream",
     "text": [
      "3\n",
      "[[2.5 3.5]\n",
      " [2.5 3.5]\n",
      " [2.5 3.5]]\n"
     ]
    }
   ],
   "source": [
    "def condition(time, output): \n",
    "    return tf.less(time, 3)\n",
    "\n",
    "def body(time, output): \n",
    "    output = output.write(time, [2.5, 3.5]) \n",
    "    return time + 1, output\n",
    "\n",
    "time = tf.constant(0) \n",
    "output_ta = tf.TensorArray(dtype=tf.float32, size=1, dynamic_size=True)\n",
    "\n",
    "result = tf.while_loop(condition, body, loop_vars=[time, output_ta])\n",
    "\n",
    "last_time, last_out = result\n",
    "\n",
    "final_out = last_out.stack()\n",
    "\n",
    "with tf.Session(): \n",
    "    print(last_time.eval()) \n",
    "    print(final_out.eval())"
   ]
  },
  {
   "cell_type": "code",
   "execution_count": null,
   "metadata": {},
   "outputs": [],
   "source": []
  }
 ],
 "metadata": {
  "kernelspec": {
   "display_name": "Python 3",
   "language": "python",
   "name": "python3"
  },
  "language_info": {
   "codemirror_mode": {
    "name": "ipython",
    "version": 3
   },
   "file_extension": ".py",
   "mimetype": "text/x-python",
   "name": "python",
   "nbconvert_exporter": "python",
   "pygments_lexer": "ipython3",
   "version": "3.6.4"
  }
 },
 "nbformat": 4,
 "nbformat_minor": 2
}
