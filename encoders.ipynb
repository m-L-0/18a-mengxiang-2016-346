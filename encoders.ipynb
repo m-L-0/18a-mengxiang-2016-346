{
 "cells": [
  {
   "cell_type": "code",
   "execution_count": 1,
   "metadata": {},
   "outputs": [
    {
     "name": "stderr",
     "output_type": "stream",
     "text": [
      "C:\\Users\\hasee\\Anaconda3\\lib\\site-packages\\h5py\\__init__.py:36: FutureWarning: Conversion of the second argument of issubdtype from `float` to `np.floating` is deprecated. In future, it will be treated as `np.float64 == np.dtype(float).type`.\n",
      "  from ._conv import register_converters as _register_converters\n"
     ]
    }
   ],
   "source": [
    "import tensorflow as tf"
   ]
  },
  {
   "cell_type": "code",
   "execution_count": 2,
   "metadata": {},
   "outputs": [],
   "source": [
    "class AE(object):\n",
    "    def __init__(self, shape, hidden_layers):\n",
    "        self.shape = shape\n",
    "        self.hidden_layers = hidden_layers\n",
    "    def encoder(self, x):\n",
    "        \"\"\"\n",
    "            encoder\n",
    "        \"\"\"\n",
    "        x = tf.keras.layers.Dense(self.hidden_layers, activation=\"sigmoid\")(x)\n",
    "        return x \n",
    "\n",
    "    def decoder(self, x):\n",
    "        \"\"\"\n",
    "            decoder\n",
    "        \"\"\"\n",
    "        x = tf.keras.layers.Dense(self.shape, activation=\"sigmoid\")(x)\n",
    "        return x\n",
    "        \n",
    "\n",
    "    def run(self,x):\n",
    "        \"\"\"\n",
    "            the funciton to forward the model\n",
    "        \"\"\"\n",
    "        x = encoder(x)\n",
    "        x = decoder(x)\n",
    "        return x\n"
   ]
  },
  {
   "cell_type": "code",
   "execution_count": 3,
   "metadata": {},
   "outputs": [],
   "source": [
    "class Denoise_AE(object):\n",
    "    def __init__(self, shape, hidden_layers):\n",
    "        self.shape = shape\n",
    "        self.hidden_layers = hidden_layers\n",
    "    \n",
    "    def encoder(self, x):\n",
    "        \"\"\"\n",
    "            encoder\n",
    "        \"\"\"\n",
    "        x = tf.keras.layers.Dense(self.hidden_layers, activation=\"sigmoid\")(x)\n",
    "        return x \n",
    "\n",
    "    def decoder(self, x):\n",
    "        \"\"\"\n",
    "            decoder\n",
    "        \"\"\"\n",
    "        x = tf.keras.layers.Dense(self.shape, activation=\"sigmoid\")(x)\n",
    "        return x\n",
    "        \n",
    "\n",
    "    def run(self,x):\n",
    "        \"\"\"\n",
    "            the funciton to forward the model\n",
    "        \"\"\"\n",
    "        x = encoder(x)\n",
    "        x = decoder(x)\n",
    "        return x"
   ]
  },
  {
   "cell_type": "code",
   "execution_count": 4,
   "metadata": {},
   "outputs": [],
   "source": [
    "class Stack_AE(object):\n",
    "    def __ini__(self, shape, hidden_layers):\n",
    "        self.shape = shape\n",
    "        self.hidden_layers_encoder = hidden_layers\n",
    "        self.hidden_layers_decoder = hidden_layers\n",
    "    \n",
    "    def encoder(self, x):\n",
    "        \"\"\"\n",
    "            encoder\n",
    "        \"\"\"\n",
    "        for i in self.hidden_layers_encoder:\n",
    "            x = tf.keras.layers.Dense(i, activation='sigmoid')\n",
    "        return x\n",
    "                                      \n",
    "    def decoder(self, x):\n",
    "        \"\"\"\n",
    "            decoder\n",
    "        \"\"\"\n",
    "        for i in self.hidden_layers_decoder:\n",
    "            x = tf.keras.layers.Dense(i, activation='sigmoid')\n",
    "        return x\n",
    "    \n",
    "    def run(self, x):\n",
    "        \"\"\"\n",
    "            the function to run the model\n",
    "        \"\"\"\n",
    "        x = encoder(x)\n",
    "        x = decoder(x)\n",
    "        return x "
   ]
  },
  {
   "cell_type": "code",
   "execution_count": null,
   "metadata": {},
   "outputs": [],
   "source": []
  }
 ],
 "metadata": {
  "kernelspec": {
   "display_name": "Python 3",
   "language": "python",
   "name": "python3"
  },
  "language_info": {
   "codemirror_mode": {
    "name": "ipython",
    "version": 3
   },
   "file_extension": ".py",
   "mimetype": "text/x-python",
   "name": "python",
   "nbconvert_exporter": "python",
   "pygments_lexer": "ipython3",
   "version": "3.6.4"
  }
 },
 "nbformat": 4,
 "nbformat_minor": 2
}
